{
 "cells": [
  {
   "cell_type": "markdown",
   "id": "10dca221",
   "metadata": {},
   "source": [
    "## What's Feature Engeneering?\n",
    "\n",
    "Feature engeneering is the process  of selecting, manipulating and transforming row data into features that can be used by our machime learning model. In order to make machine learning work well on new tasks, it might be necessary to design and train better features. Feauture engeneering, in simple terms, is the act of converting row observations into desired features using statistical or machine learning approaches. The goal of Feature Engeneering is simplifying and speeding up data transformations while also enhancing model accuracy."
   ]
  },
  {
   "cell_type": "markdown",
   "id": "6f1f1564",
   "metadata": {},
   "source": [
    "## List of techniques that we are going to discuss in this course are:\n",
    "\n",
    "* Imputation : Il s’agit de remplir les valeurs manquantes dans les données. Il existe plusieurs méthodes pour cela, comme l’imputation par la moyenne, la médiane ou la mode, ou des méthodes plus complexes comme l’imputation par les k-plus proches voisins ou par régression.\n",
    "\n",
    "* Handling Outliers : Les valeurs aberrantes sont des valeurs qui sont significativement différentes des autres. Elles peuvent être causées par des erreurs de mesure ou elles peuvent être de véritables valeurs extrêmes. Il est important de traiter ces valeurs car elles peuvent avoir un impact important sur les résultats des modèles.\n",
    "\n",
    "* Feature Creation : C’est le processus de création de nouvelles caractéristiques à partir des données existantes. Cela peut impliquer des opérations mathématiques, la combinaison de plusieurs caractéristiques, ou la transformation de caractéristiques.\n",
    "\n",
    "* Binning : C’est le processus de transformation de variables continues en variables catégorielles en créant des “bins” ou des intervalles.\n",
    "\n",
    "* Variable Transformation : C’est le processus de transformation des variables pour améliorer l’interprétabilité du modèle ou sa performance. Cela peut inclure des transformations comme la normalisation, la standardisation, ou des transformations logarithmiques.\n",
    "\n",
    "* Scaling : C’est le processus de mise à l’échelle des variables pour qu’elles aient toutes la même plage de valeurs. Cela est souvent nécessaire pour les algorithmes d’apprentissage automatique qui sont sensibles à la plage de valeurs des caractéristiques.\n",
    "\n",
    "* One-Hot Encoding : C’est une technique utilisée pour convertir les variables catégorielles en une forme qui peut être fournie aux algorithmes d’apprentissage automatique. Chaque catégorie unique dans une variable catégorielle est transformée en une nouvelle caractéristique binaire."
   ]
  },
  {
   "cell_type": "markdown",
   "id": "b4fdd9ce",
   "metadata": {},
   "source": [
    "## Import the libraries"
   ]
  },
  {
   "cell_type": "code",
   "execution_count": 1,
   "id": "e318325f",
   "metadata": {},
   "outputs": [],
   "source": [
    "import numpy as np\n",
    "import pandas as pd"
   ]
  },
  {
   "cell_type": "markdown",
   "id": "099ade50",
   "metadata": {},
   "source": [
    "## Import the dataset and read it"
   ]
  },
  {
   "cell_type": "code",
   "execution_count": 2,
   "id": "31961c1a",
   "metadata": {},
   "outputs": [
    {
     "data": {
      "text/html": [
       "<div>\n",
       "<style scoped>\n",
       "    .dataframe tbody tr th:only-of-type {\n",
       "        vertical-align: middle;\n",
       "    }\n",
       "\n",
       "    .dataframe tbody tr th {\n",
       "        vertical-align: top;\n",
       "    }\n",
       "\n",
       "    .dataframe thead th {\n",
       "        text-align: right;\n",
       "    }\n",
       "</style>\n",
       "<table border=\"1\" class=\"dataframe\">\n",
       "  <thead>\n",
       "    <tr style=\"text-align: right;\">\n",
       "      <th></th>\n",
       "      <th>PassengerId</th>\n",
       "      <th>Survived</th>\n",
       "      <th>Pclass</th>\n",
       "      <th>Name</th>\n",
       "      <th>Sex</th>\n",
       "      <th>Age</th>\n",
       "      <th>SibSp</th>\n",
       "      <th>Parch</th>\n",
       "      <th>Ticket</th>\n",
       "      <th>Fare</th>\n",
       "      <th>Cabin</th>\n",
       "      <th>Embarked</th>\n",
       "    </tr>\n",
       "  </thead>\n",
       "  <tbody>\n",
       "    <tr>\n",
       "      <th>0</th>\n",
       "      <td>1</td>\n",
       "      <td>0</td>\n",
       "      <td>3</td>\n",
       "      <td>Braund, Mr. Owen Harris</td>\n",
       "      <td>male</td>\n",
       "      <td>22.0</td>\n",
       "      <td>1</td>\n",
       "      <td>0</td>\n",
       "      <td>A/5 21171</td>\n",
       "      <td>7.2500</td>\n",
       "      <td>NaN</td>\n",
       "      <td>S</td>\n",
       "    </tr>\n",
       "    <tr>\n",
       "      <th>1</th>\n",
       "      <td>2</td>\n",
       "      <td>1</td>\n",
       "      <td>1</td>\n",
       "      <td>Cumings, Mrs. John Bradley (Florence Briggs Th...</td>\n",
       "      <td>female</td>\n",
       "      <td>38.0</td>\n",
       "      <td>1</td>\n",
       "      <td>0</td>\n",
       "      <td>PC 17599</td>\n",
       "      <td>71.2833</td>\n",
       "      <td>C85</td>\n",
       "      <td>C</td>\n",
       "    </tr>\n",
       "    <tr>\n",
       "      <th>2</th>\n",
       "      <td>3</td>\n",
       "      <td>1</td>\n",
       "      <td>3</td>\n",
       "      <td>Heikkinen, Miss. Laina</td>\n",
       "      <td>female</td>\n",
       "      <td>26.0</td>\n",
       "      <td>0</td>\n",
       "      <td>0</td>\n",
       "      <td>STON/O2. 3101282</td>\n",
       "      <td>7.9250</td>\n",
       "      <td>NaN</td>\n",
       "      <td>S</td>\n",
       "    </tr>\n",
       "    <tr>\n",
       "      <th>3</th>\n",
       "      <td>4</td>\n",
       "      <td>1</td>\n",
       "      <td>1</td>\n",
       "      <td>Futrelle, Mrs. Jacques Heath (Lily May Peel)</td>\n",
       "      <td>female</td>\n",
       "      <td>35.0</td>\n",
       "      <td>1</td>\n",
       "      <td>0</td>\n",
       "      <td>113803</td>\n",
       "      <td>53.1000</td>\n",
       "      <td>C123</td>\n",
       "      <td>S</td>\n",
       "    </tr>\n",
       "    <tr>\n",
       "      <th>4</th>\n",
       "      <td>5</td>\n",
       "      <td>0</td>\n",
       "      <td>3</td>\n",
       "      <td>Allen, Mr. William Henry</td>\n",
       "      <td>male</td>\n",
       "      <td>35.0</td>\n",
       "      <td>0</td>\n",
       "      <td>0</td>\n",
       "      <td>373450</td>\n",
       "      <td>8.0500</td>\n",
       "      <td>NaN</td>\n",
       "      <td>S</td>\n",
       "    </tr>\n",
       "  </tbody>\n",
       "</table>\n",
       "</div>"
      ],
      "text/plain": [
       "   PassengerId  Survived  Pclass  \\\n",
       "0            1         0       3   \n",
       "1            2         1       1   \n",
       "2            3         1       3   \n",
       "3            4         1       1   \n",
       "4            5         0       3   \n",
       "\n",
       "                                                Name     Sex   Age  SibSp  \\\n",
       "0                            Braund, Mr. Owen Harris    male  22.0      1   \n",
       "1  Cumings, Mrs. John Bradley (Florence Briggs Th...  female  38.0      1   \n",
       "2                             Heikkinen, Miss. Laina  female  26.0      0   \n",
       "3       Futrelle, Mrs. Jacques Heath (Lily May Peel)  female  35.0      1   \n",
       "4                           Allen, Mr. William Henry    male  35.0      0   \n",
       "\n",
       "   Parch            Ticket     Fare Cabin Embarked  \n",
       "0      0         A/5 21171   7.2500   NaN        S  \n",
       "1      0          PC 17599  71.2833   C85        C  \n",
       "2      0  STON/O2. 3101282   7.9250   NaN        S  \n",
       "3      0            113803  53.1000  C123        S  \n",
       "4      0            373450   8.0500   NaN        S  "
      ]
     },
     "execution_count": 2,
     "metadata": {},
     "output_type": "execute_result"
    }
   ],
   "source": [
    "df = pd.read_csv('train.csv')\n",
    "df.head()"
   ]
  },
  {
   "cell_type": "markdown",
   "id": "61ab4822",
   "metadata": {},
   "source": [
    "## 1. Imputaion\n",
    "Imputation : Il s’agit de remplir les valeurs manquantes dans les données. Il existe plusieurs méthodes pour cela, comme l’imputation par la moyenne, la médiane ou la mode, ou des méthodes plus complexes comme l’imputation par les k-plus proches voisins ou par régression."
   ]
  },
  {
   "cell_type": "markdown",
   "id": "4f5beb8d",
   "metadata": {},
   "source": [
    "### 1.1 Check the null values\n"
   ]
  },
  {
   "cell_type": "code",
   "execution_count": 3,
   "id": "57917f01",
   "metadata": {},
   "outputs": [
    {
     "data": {
      "text/plain": [
       "PassengerId      0\n",
       "Survived         0\n",
       "Pclass           0\n",
       "Name             0\n",
       "Sex              0\n",
       "Age            177\n",
       "SibSp            0\n",
       "Parch            0\n",
       "Ticket           0\n",
       "Fare             0\n",
       "Cabin          687\n",
       "Embarked         2\n",
       "dtype: int64"
      ]
     },
     "execution_count": 3,
     "metadata": {},
     "output_type": "execute_result"
    }
   ],
   "source": [
    "df.isnull().sum()"
   ]
  },
  {
   "cell_type": "markdown",
   "id": "baa8c991",
   "metadata": {},
   "source": [
    "### 1.2 Dropping rows with null values"
   ]
  },
  {
   "cell_type": "code",
   "execution_count": 4,
   "id": "9d6697e0",
   "metadata": {},
   "outputs": [],
   "source": [
    "# Drop missing values\n",
    "df1 = df.dropna()"
   ]
  },
  {
   "cell_type": "code",
   "execution_count": 5,
   "id": "49758be1",
   "metadata": {},
   "outputs": [
    {
     "data": {
      "text/plain": [
       "PassengerId    0\n",
       "Survived       0\n",
       "Pclass         0\n",
       "Name           0\n",
       "Sex            0\n",
       "Age            0\n",
       "SibSp          0\n",
       "Parch          0\n",
       "Ticket         0\n",
       "Fare           0\n",
       "Cabin          0\n",
       "Embarked       0\n",
       "dtype: int64"
      ]
     },
     "execution_count": 5,
     "metadata": {},
     "output_type": "execute_result"
    }
   ],
   "source": [
    "#check the null values\n",
    "df1.isnull().sum()"
   ]
  },
  {
   "cell_type": "code",
   "execution_count": 6,
   "id": "8a562937",
   "metadata": {},
   "outputs": [
    {
     "data": {
      "text/plain": [
       "(183, 891)"
      ]
     },
     "execution_count": 6,
     "metadata": {},
     "output_type": "execute_result"
    }
   ],
   "source": [
    "'''\n",
    "Compare the lenght of dataframe before and after dropping null values\n",
    "'''\n",
    "len(df1), len(df)"
   ]
  },
  {
   "cell_type": "markdown",
   "id": "6b43af21",
   "metadata": {},
   "source": [
    "### 1.3 Drop the column\n",
    "When we have a lot missing values, say more than a certain threshold, we can easily drop the column.\n",
    "Let us see it in our dataset. Suppose we choose our threshold to be 0.75. That means if any column has more than 75% of missing values, we can drop it."
   ]
  },
  {
   "cell_type": "code",
   "execution_count": 7,
   "id": "5beab385",
   "metadata": {},
   "outputs": [
    {
     "data": {
      "text/html": [
       "<div>\n",
       "<style scoped>\n",
       "    .dataframe tbody tr th:only-of-type {\n",
       "        vertical-align: middle;\n",
       "    }\n",
       "\n",
       "    .dataframe tbody tr th {\n",
       "        vertical-align: top;\n",
       "    }\n",
       "\n",
       "    .dataframe thead th {\n",
       "        text-align: right;\n",
       "    }\n",
       "</style>\n",
       "<table border=\"1\" class=\"dataframe\">\n",
       "  <thead>\n",
       "    <tr style=\"text-align: right;\">\n",
       "      <th></th>\n",
       "      <th>PassengerId</th>\n",
       "      <th>Survived</th>\n",
       "      <th>Pclass</th>\n",
       "      <th>Name</th>\n",
       "      <th>Sex</th>\n",
       "      <th>Age</th>\n",
       "      <th>SibSp</th>\n",
       "      <th>Parch</th>\n",
       "      <th>Ticket</th>\n",
       "      <th>Fare</th>\n",
       "      <th>Embarked</th>\n",
       "    </tr>\n",
       "  </thead>\n",
       "  <tbody>\n",
       "    <tr>\n",
       "      <th>0</th>\n",
       "      <td>1</td>\n",
       "      <td>0</td>\n",
       "      <td>3</td>\n",
       "      <td>Braund, Mr. Owen Harris</td>\n",
       "      <td>male</td>\n",
       "      <td>22.0</td>\n",
       "      <td>1</td>\n",
       "      <td>0</td>\n",
       "      <td>A/5 21171</td>\n",
       "      <td>7.2500</td>\n",
       "      <td>S</td>\n",
       "    </tr>\n",
       "    <tr>\n",
       "      <th>1</th>\n",
       "      <td>2</td>\n",
       "      <td>1</td>\n",
       "      <td>1</td>\n",
       "      <td>Cumings, Mrs. John Bradley (Florence Briggs Th...</td>\n",
       "      <td>female</td>\n",
       "      <td>38.0</td>\n",
       "      <td>1</td>\n",
       "      <td>0</td>\n",
       "      <td>PC 17599</td>\n",
       "      <td>71.2833</td>\n",
       "      <td>C</td>\n",
       "    </tr>\n",
       "    <tr>\n",
       "      <th>2</th>\n",
       "      <td>3</td>\n",
       "      <td>1</td>\n",
       "      <td>3</td>\n",
       "      <td>Heikkinen, Miss. Laina</td>\n",
       "      <td>female</td>\n",
       "      <td>26.0</td>\n",
       "      <td>0</td>\n",
       "      <td>0</td>\n",
       "      <td>STON/O2. 3101282</td>\n",
       "      <td>7.9250</td>\n",
       "      <td>S</td>\n",
       "    </tr>\n",
       "    <tr>\n",
       "      <th>3</th>\n",
       "      <td>4</td>\n",
       "      <td>1</td>\n",
       "      <td>1</td>\n",
       "      <td>Futrelle, Mrs. Jacques Heath (Lily May Peel)</td>\n",
       "      <td>female</td>\n",
       "      <td>35.0</td>\n",
       "      <td>1</td>\n",
       "      <td>0</td>\n",
       "      <td>113803</td>\n",
       "      <td>53.1000</td>\n",
       "      <td>S</td>\n",
       "    </tr>\n",
       "    <tr>\n",
       "      <th>4</th>\n",
       "      <td>5</td>\n",
       "      <td>0</td>\n",
       "      <td>3</td>\n",
       "      <td>Allen, Mr. William Henry</td>\n",
       "      <td>male</td>\n",
       "      <td>35.0</td>\n",
       "      <td>0</td>\n",
       "      <td>0</td>\n",
       "      <td>373450</td>\n",
       "      <td>8.0500</td>\n",
       "      <td>S</td>\n",
       "    </tr>\n",
       "  </tbody>\n",
       "</table>\n",
       "</div>"
      ],
      "text/plain": [
       "   PassengerId  Survived  Pclass  \\\n",
       "0            1         0       3   \n",
       "1            2         1       1   \n",
       "2            3         1       3   \n",
       "3            4         1       1   \n",
       "4            5         0       3   \n",
       "\n",
       "                                                Name     Sex   Age  SibSp  \\\n",
       "0                            Braund, Mr. Owen Harris    male  22.0      1   \n",
       "1  Cumings, Mrs. John Bradley (Florence Briggs Th...  female  38.0      1   \n",
       "2                             Heikkinen, Miss. Laina  female  26.0      0   \n",
       "3       Futrelle, Mrs. Jacques Heath (Lily May Peel)  female  35.0      1   \n",
       "4                           Allen, Mr. William Henry    male  35.0      0   \n",
       "\n",
       "   Parch            Ticket     Fare Embarked  \n",
       "0      0         A/5 21171   7.2500        S  \n",
       "1      0          PC 17599  71.2833        C  \n",
       "2      0  STON/O2. 3101282   7.9250        S  \n",
       "3      0            113803  53.1000        S  \n",
       "4      0            373450   8.0500        S  "
      ]
     },
     "execution_count": 7,
     "metadata": {},
     "output_type": "execute_result"
    }
   ],
   "source": [
    "'''\n",
    " Set threshold of 0.75 and accept only those columns which have null values less than threshold\n",
    "'''\n",
    "threshold = 0.75\n",
    "df = df[df.columns[df.isnull().mean() < threshold]]\n",
    "df.head()"
   ]
  },
  {
   "cell_type": "markdown",
   "id": "8a1c1808",
   "metadata": {},
   "source": [
    "## 1.4 Numerical Impultation\n",
    "Imputation is a more preferable option rather than dropping because it preserve the data size. However, there is an important selection of what you impute to missing values.\n",
    "We suggest begging with considering a possible default value of missing values in the column. For example, if you have a column that only has 1 and NA,\n",
    "then it is likely that NA rows correspond to 0. For another example, if you have a column that shows the \"customer visit count month\",\n",
    "the missing values might remplaced with 0 as long you think is a sensible solution.\n",
    "\n",
    "In another cases, the best imputationway is to use the medians of columns. As the average of the columns are sensitive to the outlier values,\n",
    "while medians are more solid in this respect."
   ]
  },
  {
   "cell_type": "code",
   "execution_count": 13,
   "id": "6a692797",
   "metadata": {},
   "outputs": [
    {
     "data": {
      "text/html": [
       "<div>\n",
       "<style scoped>\n",
       "    .dataframe tbody tr th:only-of-type {\n",
       "        vertical-align: middle;\n",
       "    }\n",
       "\n",
       "    .dataframe tbody tr th {\n",
       "        vertical-align: top;\n",
       "    }\n",
       "\n",
       "    .dataframe thead th {\n",
       "        text-align: right;\n",
       "    }\n",
       "</style>\n",
       "<table border=\"1\" class=\"dataframe\">\n",
       "  <thead>\n",
       "    <tr style=\"text-align: right;\">\n",
       "      <th></th>\n",
       "      <th>PassengerId</th>\n",
       "      <th>Survived</th>\n",
       "      <th>Pclass</th>\n",
       "      <th>Name</th>\n",
       "      <th>Sex</th>\n",
       "      <th>Age</th>\n",
       "      <th>SibSp</th>\n",
       "      <th>Parch</th>\n",
       "      <th>Ticket</th>\n",
       "      <th>Fare</th>\n",
       "      <th>Embarked</th>\n",
       "    </tr>\n",
       "  </thead>\n",
       "  <tbody>\n",
       "    <tr>\n",
       "      <th>0</th>\n",
       "      <td>1</td>\n",
       "      <td>0</td>\n",
       "      <td>3</td>\n",
       "      <td>Braund, Mr. Owen Harris</td>\n",
       "      <td>male</td>\n",
       "      <td>22.0</td>\n",
       "      <td>1</td>\n",
       "      <td>0</td>\n",
       "      <td>A/5 21171</td>\n",
       "      <td>7.2500</td>\n",
       "      <td>S</td>\n",
       "    </tr>\n",
       "    <tr>\n",
       "      <th>1</th>\n",
       "      <td>2</td>\n",
       "      <td>1</td>\n",
       "      <td>1</td>\n",
       "      <td>Cumings, Mrs. John Bradley (Florence Briggs Th...</td>\n",
       "      <td>female</td>\n",
       "      <td>38.0</td>\n",
       "      <td>1</td>\n",
       "      <td>0</td>\n",
       "      <td>PC 17599</td>\n",
       "      <td>71.2833</td>\n",
       "      <td>C</td>\n",
       "    </tr>\n",
       "    <tr>\n",
       "      <th>2</th>\n",
       "      <td>3</td>\n",
       "      <td>1</td>\n",
       "      <td>3</td>\n",
       "      <td>Heikkinen, Miss. Laina</td>\n",
       "      <td>female</td>\n",
       "      <td>26.0</td>\n",
       "      <td>0</td>\n",
       "      <td>0</td>\n",
       "      <td>STON/O2. 3101282</td>\n",
       "      <td>7.9250</td>\n",
       "      <td>S</td>\n",
       "    </tr>\n",
       "    <tr>\n",
       "      <th>3</th>\n",
       "      <td>4</td>\n",
       "      <td>1</td>\n",
       "      <td>1</td>\n",
       "      <td>Futrelle, Mrs. Jacques Heath (Lily May Peel)</td>\n",
       "      <td>female</td>\n",
       "      <td>35.0</td>\n",
       "      <td>1</td>\n",
       "      <td>0</td>\n",
       "      <td>113803</td>\n",
       "      <td>53.1000</td>\n",
       "      <td>S</td>\n",
       "    </tr>\n",
       "    <tr>\n",
       "      <th>4</th>\n",
       "      <td>5</td>\n",
       "      <td>0</td>\n",
       "      <td>3</td>\n",
       "      <td>Allen, Mr. William Henry</td>\n",
       "      <td>male</td>\n",
       "      <td>35.0</td>\n",
       "      <td>0</td>\n",
       "      <td>0</td>\n",
       "      <td>373450</td>\n",
       "      <td>8.0500</td>\n",
       "      <td>S</td>\n",
       "    </tr>\n",
       "  </tbody>\n",
       "</table>\n",
       "</div>"
      ],
      "text/plain": [
       "   PassengerId  Survived  Pclass  \\\n",
       "0            1         0       3   \n",
       "1            2         1       1   \n",
       "2            3         1       3   \n",
       "3            4         1       1   \n",
       "4            5         0       3   \n",
       "\n",
       "                                                Name     Sex   Age  SibSp  \\\n",
       "0                            Braund, Mr. Owen Harris    male  22.0      1   \n",
       "1  Cumings, Mrs. John Bradley (Florence Briggs Th...  female  38.0      1   \n",
       "2                             Heikkinen, Miss. Laina  female  26.0      0   \n",
       "3       Futrelle, Mrs. Jacques Heath (Lily May Peel)  female  35.0      1   \n",
       "4                           Allen, Mr. William Henry    male  35.0      0   \n",
       "\n",
       "   Parch            Ticket     Fare Embarked  \n",
       "0      0         A/5 21171   7.2500        S  \n",
       "1      0          PC 17599  71.2833        C  \n",
       "2      0  STON/O2. 3101282   7.9250        S  \n",
       "3      0            113803  53.1000        S  \n",
       "4      0            373450   8.0500        S  "
      ]
     },
     "execution_count": 13,
     "metadata": {},
     "output_type": "execute_result"
    }
   ],
   "source": [
    "## Filling missing values with medians of Age column\n",
    "df[\"Age\"] = df[\"Age\"].fillna(df[\"Age\"].median())\n",
    "df.head()"
   ]
  },
  {
   "cell_type": "code",
   "execution_count": 14,
   "id": "7e3e8ab2",
   "metadata": {},
   "outputs": [
    {
     "data": {
      "text/plain": [
       "PassengerId    0\n",
       "Survived       0\n",
       "Pclass         0\n",
       "Name           0\n",
       "Sex            0\n",
       "Age            0\n",
       "SibSp          0\n",
       "Parch          0\n",
       "Ticket         0\n",
       "Fare           0\n",
       "Embarked       2\n",
       "dtype: int64"
      ]
     },
     "execution_count": 14,
     "metadata": {},
     "output_type": "execute_result"
    }
   ],
   "source": [
    "\"\"\"\n",
    "    check the missing values\n",
    "\"\"\"\n",
    "df.isnull().sum()"
   ]
  },
  {
   "cell_type": "markdown",
   "id": "3f44498b",
   "metadata": {},
   "source": [
    "## 1.5 Categorical Imputation\n",
    "\n",
    "Remplacing the missing values with the maximum occured value in the column is a good option as well handling categorical columns.\n",
    "But if you think the values in the column are distributed uniformly and there is not a dominant value, imputing a caterory like \"Other\"\n",
    "might be more sensible, because in such a case, your imputation is likely to converge a random selection."
   ]
  },
  {
   "cell_type": "code",
   "execution_count": 16,
   "id": "38532687",
   "metadata": {},
   "outputs": [],
   "source": [
    "'''\n",
    "    Max fill function for categorical columns\n",
    "'''\n",
    "df.Embarked.fillna(df.Embarked.value_counts().idxmax(),inplace=True)"
   ]
  },
  {
   "cell_type": "code",
   "execution_count": 17,
   "id": "2098b62e",
   "metadata": {},
   "outputs": [
    {
     "data": {
      "text/plain": [
       "PassengerId    0\n",
       "Survived       0\n",
       "Pclass         0\n",
       "Name           0\n",
       "Sex            0\n",
       "Age            0\n",
       "SibSp          0\n",
       "Parch          0\n",
       "Ticket         0\n",
       "Fare           0\n",
       "Embarked       0\n",
       "dtype: int64"
      ]
     },
     "execution_count": 17,
     "metadata": {},
     "output_type": "execute_result"
    }
   ],
   "source": [
    "'''\n",
    "    Check the missing values\n",
    "'''\n",
    "df.isnull().sum()"
   ]
  },
  {
   "cell_type": "markdown",
   "id": "e2555beb",
   "metadata": {},
   "source": [
    "## 2. Headling Outliers\n",
    "\n",
    "Outlier Handling is a technique for removing outliers from a dataset. An outlier is a data point that point differs significaltly from other observations.\n"
   ]
  },
  {
   "cell_type": "markdown",
   "id": "2a9e988f",
   "metadata": {},
   "source": [
    "## 2.1 Standard Deviation based method to detect outliers\n",
    "\n",
    "In the standard deviation method, we consider all the points with values more than or less than the 3(generaly) times standard deviation fron mean are considered outliers.\n",
    "\n",
    "Dans cette méthode, on considère qu’un point est une valeur aberrante si sa valeur est supérieure ou inférieure à trois fois (généralement) l’écart type à partir de la moyenne. Cette règle est souvent appelée la “règle des trois écarts types” et est basée sur les propriétés de la distribution normale.\n",
    "\n",
    "Voici comment cela fonctionne :\n",
    "\n",
    "* Calculez la moyenne (µ) et l’écart type (σ) de votre jeu de données.\n",
    "* Pour chaque point de données, vérifiez si la valeur de ce point est supérieure à µ + 3σ ou inférieure à µ - 3σ.\n",
    "* Si c’est le cas, alors ce point est considéré comme une valeur aberrante."
   ]
  },
  {
   "cell_type": "code",
   "execution_count": 22,
   "id": "1f78b268",
   "metadata": {},
   "outputs": [
    {
     "data": {
      "text/plain": [
       "891"
      ]
     },
     "execution_count": 22,
     "metadata": {},
     "output_type": "execute_result"
    }
   ],
   "source": [
    "# Check the lenght\n",
    "len(df)"
   ]
  },
  {
   "cell_type": "code",
   "execution_count": 24,
   "id": "8afb5850",
   "metadata": {},
   "outputs": [
    {
     "data": {
      "text/plain": [
       "181.28449376011736"
      ]
     },
     "execution_count": 24,
     "metadata": {},
     "output_type": "execute_result"
    }
   ],
   "source": [
    "# Dropping the outliers rows with standard deviation, setting the limit\n",
    "factor = 3\n",
    "upper_limit = df['Fare'].mean() + factor*df['Fare'].std()\n",
    "lower_limit = df['Fare'].mean() - factor*df['Fare'].std()\n"
   ]
  },
  {
   "cell_type": "code",
   "execution_count": 27,
   "id": "9444730d",
   "metadata": {},
   "outputs": [],
   "source": [
    "#Eliminate the outlier\n",
    "df2 = df[(df['Fare'] < upper_limit) & (df['Fare'] > lower_limit)]"
   ]
  },
  {
   "cell_type": "code",
   "execution_count": 26,
   "id": "74679db4",
   "metadata": {},
   "outputs": [
    {
     "data": {
      "text/plain": [
       "871"
      ]
     },
     "execution_count": 26,
     "metadata": {},
     "output_type": "execute_result"
    }
   ],
   "source": [
    "# Check the difference in lenght of dataset now\n",
    "len(df2)"
   ]
  },
  {
   "cell_type": "markdown",
   "id": "2beab897",
   "metadata": {},
   "source": [
    "## 2.2 Caping the Outliers\n",
    "\n",
    "Another option for handlinh=g outliers o=is to cap them instead of dropping. So you can keep your data size and the end of the day, it might be better for the final model performance."
   ]
  },
  {
   "cell_type": "code",
   "execution_count": 30,
   "id": "5074199c",
   "metadata": {},
   "outputs": [
    {
     "data": {
      "text/plain": [
       "(0.0, 512.3292)"
      ]
     },
     "execution_count": 30,
     "metadata": {},
     "output_type": "execute_result"
    }
   ],
   "source": [
    "'''\n",
    "    Check the extremes i.e min and max of Fare column\n",
    "'''\n",
    "\n",
    "df['Fare'].min(), df['Fare'].max()"
   ]
  },
  {
   "cell_type": "markdown",
   "id": "ed4fdcc4",
   "metadata": {},
   "source": [
    "So in  this method, we set the values of a lower and higher percentile. A quantile is called a percentile when it is based on a 0-100 scale. The 0.95-quantile is equivalent to the 95-percentile and is such that 95% of the sample is below its value and 5% is above.\n",
    "We will set upper limit of 0.95-quantile and 0.05-quantile for lower limit for outliers, meanning any sample below or above the limit is an outlier. When we encontour any outlier, we substitute its value with our upper limit if lies above upper limit and substitute its value with our lower limit if the outlier lies below lower limit."
   ]
  },
  {
   "cell_type": "code",
   "execution_count": 31,
   "id": "8e1c1c95",
   "metadata": {},
   "outputs": [],
   "source": [
    "# Capping the outlier rows with Percentiles\n",
    "upper_lim = df['Fare'].quantile(0.95)\n",
    "lower_limit = df['Fare'].quantile(0.05)\n",
    "df.loc[(df['Fare'] > upper_limit), 'Fare'] = upper_limit\n",
    "df.loc[(df['Fare'] < lower_limit), 'Fare'] = lower_limit"
   ]
  },
  {
   "cell_type": "code",
   "execution_count": 32,
   "id": "c89c6991",
   "metadata": {},
   "outputs": [
    {
     "data": {
      "text/plain": [
       "(7.225, 181.28449376011736)"
      ]
     },
     "execution_count": 32,
     "metadata": {},
     "output_type": "execute_result"
    }
   ],
   "source": [
    "'''\n",
    "    Check the extremes i.e min and max of Fare column\n",
    "'''\n",
    "\n",
    "df['Fare'].min(), df['Fare'].max()"
   ]
  },
  {
   "cell_type": "code",
   "execution_count": 35,
   "id": "f3c21a40",
   "metadata": {},
   "outputs": [
    {
     "data": {
      "text/plain": [
       "891"
      ]
     },
     "execution_count": 35,
     "metadata": {},
     "output_type": "execute_result"
    }
   ],
   "source": [
    "# Check the dataset lenght\n",
    "len(df)"
   ]
  },
  {
   "cell_type": "markdown",
   "id": "f4097db2",
   "metadata": {},
   "source": [
    "## 3. Feature Creation\n",
    "\n",
    "Preprocessing is all about changing row data into something that will help you improve the performance of your model. But you must be thinking how can we create own Feature and will it help increase the performance of my model?\n",
    "Creating features involves identifying the variables that will be most usuful in the predictive model. This is a subjective process that required human intervention and creativity.\n",
    "\n",
    "Example, the dataset, if we see for a person in record, sibsp tells us about number of sibling/spouses aboard the Titanic and parch tells us about of parents/children aboard the Titanic. Perhaps people travelling alone did better? Or on the other hand perhaps if you had a family, you might have risked your life looking for them, or even giving up to them in a lifeboat.\n",
    "So, feature creation is the process of construting new features from existing data to train machine learning model. Let's implement the above statement for our data."
   ]
  },
  {
   "cell_type": "code",
   "execution_count": 37,
   "id": "6e2ea462",
   "metadata": {},
   "outputs": [
    {
     "data": {
      "text/html": [
       "<div>\n",
       "<style scoped>\n",
       "    .dataframe tbody tr th:only-of-type {\n",
       "        vertical-align: middle;\n",
       "    }\n",
       "\n",
       "    .dataframe tbody tr th {\n",
       "        vertical-align: top;\n",
       "    }\n",
       "\n",
       "    .dataframe thead th {\n",
       "        text-align: right;\n",
       "    }\n",
       "</style>\n",
       "<table border=\"1\" class=\"dataframe\">\n",
       "  <thead>\n",
       "    <tr style=\"text-align: right;\">\n",
       "      <th></th>\n",
       "      <th>PassengerId</th>\n",
       "      <th>Survived</th>\n",
       "      <th>Pclass</th>\n",
       "      <th>Name</th>\n",
       "      <th>Sex</th>\n",
       "      <th>Age</th>\n",
       "      <th>SibSp</th>\n",
       "      <th>Parch</th>\n",
       "      <th>Ticket</th>\n",
       "      <th>Fare</th>\n",
       "      <th>Embarked</th>\n",
       "      <th>family_size</th>\n",
       "    </tr>\n",
       "  </thead>\n",
       "  <tbody>\n",
       "    <tr>\n",
       "      <th>0</th>\n",
       "      <td>1</td>\n",
       "      <td>0</td>\n",
       "      <td>3</td>\n",
       "      <td>Braund, Mr. Owen Harris</td>\n",
       "      <td>male</td>\n",
       "      <td>22.0</td>\n",
       "      <td>1</td>\n",
       "      <td>0</td>\n",
       "      <td>A/5 21171</td>\n",
       "      <td>7.2500</td>\n",
       "      <td>S</td>\n",
       "      <td>1</td>\n",
       "    </tr>\n",
       "    <tr>\n",
       "      <th>1</th>\n",
       "      <td>2</td>\n",
       "      <td>1</td>\n",
       "      <td>1</td>\n",
       "      <td>Cumings, Mrs. John Bradley (Florence Briggs Th...</td>\n",
       "      <td>female</td>\n",
       "      <td>38.0</td>\n",
       "      <td>1</td>\n",
       "      <td>0</td>\n",
       "      <td>PC 17599</td>\n",
       "      <td>71.2833</td>\n",
       "      <td>C</td>\n",
       "      <td>1</td>\n",
       "    </tr>\n",
       "    <tr>\n",
       "      <th>2</th>\n",
       "      <td>3</td>\n",
       "      <td>1</td>\n",
       "      <td>3</td>\n",
       "      <td>Heikkinen, Miss. Laina</td>\n",
       "      <td>female</td>\n",
       "      <td>26.0</td>\n",
       "      <td>0</td>\n",
       "      <td>0</td>\n",
       "      <td>STON/O2. 3101282</td>\n",
       "      <td>7.9250</td>\n",
       "      <td>S</td>\n",
       "      <td>0</td>\n",
       "    </tr>\n",
       "    <tr>\n",
       "      <th>3</th>\n",
       "      <td>4</td>\n",
       "      <td>1</td>\n",
       "      <td>1</td>\n",
       "      <td>Futrelle, Mrs. Jacques Heath (Lily May Peel)</td>\n",
       "      <td>female</td>\n",
       "      <td>35.0</td>\n",
       "      <td>1</td>\n",
       "      <td>0</td>\n",
       "      <td>113803</td>\n",
       "      <td>53.1000</td>\n",
       "      <td>S</td>\n",
       "      <td>1</td>\n",
       "    </tr>\n",
       "    <tr>\n",
       "      <th>4</th>\n",
       "      <td>5</td>\n",
       "      <td>0</td>\n",
       "      <td>3</td>\n",
       "      <td>Allen, Mr. William Henry</td>\n",
       "      <td>male</td>\n",
       "      <td>35.0</td>\n",
       "      <td>0</td>\n",
       "      <td>0</td>\n",
       "      <td>373450</td>\n",
       "      <td>8.0500</td>\n",
       "      <td>S</td>\n",
       "      <td>0</td>\n",
       "    </tr>\n",
       "  </tbody>\n",
       "</table>\n",
       "</div>"
      ],
      "text/plain": [
       "   PassengerId  Survived  Pclass  \\\n",
       "0            1         0       3   \n",
       "1            2         1       1   \n",
       "2            3         1       3   \n",
       "3            4         1       1   \n",
       "4            5         0       3   \n",
       "\n",
       "                                                Name     Sex   Age  SibSp  \\\n",
       "0                            Braund, Mr. Owen Harris    male  22.0      1   \n",
       "1  Cumings, Mrs. John Bradley (Florence Briggs Th...  female  38.0      1   \n",
       "2                             Heikkinen, Miss. Laina  female  26.0      0   \n",
       "3       Futrelle, Mrs. Jacques Heath (Lily May Peel)  female  35.0      1   \n",
       "4                           Allen, Mr. William Henry    male  35.0      0   \n",
       "\n",
       "   Parch            Ticket     Fare Embarked  family_size  \n",
       "0      0         A/5 21171   7.2500        S            1  \n",
       "1      0          PC 17599  71.2833        C            1  \n",
       "2      0  STON/O2. 3101282   7.9250        S            0  \n",
       "3      0            113803  53.1000        S            1  \n",
       "4      0            373450   8.0500        S            0  "
      ]
     },
     "execution_count": 37,
     "metadata": {},
     "output_type": "execute_result"
    }
   ],
   "source": [
    "# Create new family _size column\n",
    "df['family_size'] = df['SibSp'] + df['Parch']\n",
    "df.head()"
   ]
  },
  {
   "cell_type": "markdown",
   "id": "44362585",
   "metadata": {},
   "source": [
    "## 4. Binning\n",
    "\n",
    "Data binning is a data-preprocessing method used to minimize the effects of small observation errors which tends to improve the model performance applying domain knowladge. Binning is done to create bins for continous numerical variables where they are converted to categorical variables.\n",
    "\n",
    "The original data values are divided into small intervals known as bins and then they are replaced by a general value caculatated for that bin. This has a smoothing effect on the input data and may also reduce the chances of overfitting in case of small datasets. It also helps in avoiding the effects of outliers as we are grouping them into one special group.\n",
    "\n",
    "Suppose we want to perform binning on age groups in our dataset beause more than numerical age, what kind of people(based on their age like old, children or adult) is more important for us to know in order to understand what patterns are going on to build the model. Maybe, Children and Old were given priority to sit in lifboat, so of survival are more, So let's see how we can use binning in such case.\n",
    "\n",
    "if age < 18, then children\n",
    "if age > 18 and < 50\n",
    "And if age > 50 then old\n",
    "\n",
    " Binning : C’est le processus de transformation de variables continues en variables catégorielles en créant des “bins” ou des intervalles."
   ]
  },
  {
   "cell_type": "code",
   "execution_count": 38,
   "id": "62da6c4d",
   "metadata": {},
   "outputs": [
    {
     "data": {
      "text/plain": [
       "Age_group\n",
       "Adult       688\n",
       "Children    139\n",
       "Old          64\n",
       "Name: count, dtype: int64"
      ]
     },
     "execution_count": 38,
     "metadata": {},
     "output_type": "execute_result"
    }
   ],
   "source": [
    "# perform binning for different age groups\n",
    "df['Age_group'] = pd.cut(df['Age'],bins=[0,18,50,100],labels=['Children','Adult','Old'])\n",
    "df['Age_group'] .value_counts()"
   ]
  },
  {
   "cell_type": "code",
   "execution_count": 39,
   "id": "b3dc7c75",
   "metadata": {},
   "outputs": [
    {
     "data": {
      "text/plain": [
       "<Axes: xlabel='Age_group'>"
      ]
     },
     "execution_count": 39,
     "metadata": {},
     "output_type": "execute_result"
    },
    {
     "data": {
      "image/png": "[encoded data removed]",
      "text/plain": [
       "<Figure size 640x480 with 1 Axes>"
      ]
     },
     "metadata": {},
     "output_type": "display_data"
    }
   ],
   "source": [
    "# Plot bar graph showing different age groups\n",
    "df['Age_group'] .value_counts().plot.bar()"
   ]
  },
  {
   "cell_type": "code",
   "execution_count": 41,
   "id": "cf10736d",
   "metadata": {},
   "outputs": [
    {
     "data": {
      "text/plain": [
       "age_group\n",
       "adult    704\n",
       "child    113\n",
       "old       74\n",
       "Name: count, dtype: int64"
      ]
     },
     "execution_count": 41,
     "metadata": {},
     "output_type": "execute_result"
    }
   ],
   "source": [
    "def bin_age(age):\n",
    "    if age < 18:\n",
    "        return 'child'\n",
    "    elif age < 50:\n",
    "        return 'adult'\n",
    "    else:\n",
    "        return 'old'\n",
    "\n",
    "# Appliquer la fonction à la colonne d'âge\n",
    "df['age_group'] = df['Age'].apply(bin_age)\n",
    "df['age_group'] .value_counts()"
   ]
  },
  {
   "cell_type": "markdown",
   "id": "c1b3241d",
   "metadata": {},
   "source": [
    "## 5. Variable Transformation\n",
    "\n",
    "### What's a Nornal Distribution?\n",
    "\n",
    "Normal distribution is widely used probability and statistical concept where mean, median, and mode of such distribution have the same value and it can be defined with jsut two parameters: mean and variance.\n",
    "\n",
    "Some Machine Learning models, like liner and logistic regression, assume that the variables follow a normal distribution. More likely, variables in real datasets will follow more a skewed distribution.\n",
    "\n",
    "A skewed distribution is neither symetric nor normal because the data points cluster mor toward one side of the scale than other creating a curve where there is no such mirror imaging.\n",
    "\n",
    "If a variable is not normally distributed, sometimes it is possible to find a mathematical transformation for such skewed distributios so that the transformed variable is Normal. Normally distributes variables many times boost the machine learning algorithm performance.\n",
    "\n",
    "The most commonly-used methods to tranforma variables are the following:\n",
    "* Logorithm transformation - log(x)\n",
    "* Square root transformation - sqrt(x)\n",
    "* Reciprocal transformation - 1/x\n",
    "* Exponential transformation - exp(x)"
   ]
  },
  {
   "cell_type": "markdown",
   "id": "ebf90ae9",
   "metadata": {},
   "source": [
    "![](images1.jpg)\n"
   ]
  },
  {
   "cell_type": "code",
   "execution_count": 42,
   "id": "c4737809",
   "metadata": {},
   "outputs": [
    {
     "data": {
      "text/plain": [
       "<Axes: ylabel='Frequency'>"
      ]
     },
     "execution_count": 42,
     "metadata": {},
     "output_type": "execute_result"
    },
    {
     "data": {
      "image/png": "[encoded data removed]",
      "text/plain": [
       "<Figure size 640x480 with 1 Axes>"
      ]
     },
     "metadata": {},
     "output_type": "display_data"
    }
   ],
   "source": [
    "# Check the distribution for \"Age\" column using histogram\n",
    "df['Age'].plot.hist()\n"
   ]
  },
  {
   "cell_type": "markdown",
   "id": "4ad78daf",
   "metadata": {},
   "source": [
    "### We can observe that this is left Skewed distribution. Let's apply the transformation techniques and compare it before and after transformation."
   ]
  },
  {
   "cell_type": "code",
   "execution_count": 44,
   "id": "ba3e9423",
   "metadata": {},
   "outputs": [
    {
     "data": {
      "text/plain": [
       "<Axes: ylabel='Frequency'>"
      ]
     },
     "execution_count": 44,
     "metadata": {},
     "output_type": "execute_result"
    },
    {
     "data": {
      "image/png": "[encoded data removed]",
      "text/plain": [
       "<Figure size 640x480 with 1 Axes>"
      ]
     },
     "metadata": {},
     "output_type": "display_data"
    }
   ],
   "source": [
    "# Apply Logarithm transformation\n",
    "df['Age_log'] = np.log(df['Age'])\n",
    "df['Age_log'].plot.hist()"
   ]
  },
  {
   "cell_type": "markdown",
   "id": "ceabed0c",
   "metadata": {},
   "source": [
    "### We can observe here that logarithmic transformation did not produce a Normal distribution for Age column, instead a rigth Skewed distribution."
   ]
  },
  {
   "cell_type": "code",
   "execution_count": 45,
   "id": "a40150f9",
   "metadata": {},
   "outputs": [
    {
     "data": {
      "text/plain": [
       "<Axes: ylabel='Frequency'>"
      ]
     },
     "execution_count": 45,
     "metadata": {},
     "output_type": "execute_result"
    },
    {
     "data": {
      "image/png": "[encoded data removed]",
      "text/plain": [
       "<Figure size 640x480 with 1 Axes>"
      ]
     },
     "metadata": {},
     "output_type": "display_data"
    }
   ],
   "source": [
    "# Apply Square root transformation\n",
    "df['Age_sqrt'] = df['Age']**(1/2)\n",
    "df['Age_sqrt'].plot.hist()"
   ]
  },
  {
   "cell_type": "markdown",
   "id": "18b8d16e",
   "metadata": {},
   "source": [
    "### This is better but not perfect as it is still slightly right(or positively) skewed"
   ]
  },
  {
   "cell_type": "code",
   "execution_count": 46,
   "id": "6fc61a72",
   "metadata": {},
   "outputs": [
    {
     "data": {
      "text/plain": [
       "<Axes: ylabel='Frequency'>"
      ]
     },
     "execution_count": 46,
     "metadata": {},
     "output_type": "execute_result"
    },
    {
     "data": {
      "image/png": "[encoded data removed]",
      "text/plain": [
       "<Figure size 640x480 with 1 Axes>"
      ]
     },
     "metadata": {},
     "output_type": "display_data"
    }
   ],
   "source": [
    "# Apply Reciprocal transformation\n",
    "df['Age_rp'] = 1/df['Age']\n",
    "df['Age_rp'].plot.hist()"
   ]
  },
  {
   "cell_type": "markdown",
   "id": "8b6a0850",
   "metadata": {},
   "source": [
    "### This transformation is also not useful to transform Age into a normally distributed variable"
   ]
  },
  {
   "cell_type": "code",
   "execution_count": 47,
   "id": "f6ae09ee",
   "metadata": {},
   "outputs": [
    {
     "data": {
      "text/plain": [
       "<Axes: ylabel='Frequency'>"
      ]
     },
     "execution_count": 47,
     "metadata": {},
     "output_type": "execute_result"
    },
    {
     "data": {
      "image/png": "[encoded data removed]",
      "text/plain": [
       "<Figure size 640x480 with 1 Axes>"
      ]
     },
     "metadata": {},
     "output_type": "display_data"
    }
   ],
   "source": [
    "# Apply Exponantial transformation\n",
    "df['Age_sqrt'] = df['Age']**(4/5)\n",
    "df['Age_sqrt'].plot.hist()"
   ]
  },
  {
   "cell_type": "markdown",
   "id": "315ec962",
   "metadata": {},
   "source": [
    "### This one is the best of  all the tranformations above, which is also normal distribution for our variable(or column)"
   ]
  },
  {
   "cell_type": "markdown",
   "id": "0a4635ac",
   "metadata": {},
   "source": [
    "## 6. Scalling \n",
    "\n",
    "Feature scaling is on of the most unvisersal and fifficult problems in machine learning, yet it's one of the most important to get right. In most cases, the numerical feautures of the dataset do not have a certain range and they  differ from each other. In real life, we don't expect age and income columns to have the same range. But from the machine learning point of view, how these two columns can be compared?\n",
    "\n",
    "Due to higher range, machine learning models create bias towards income column, but we wanna examine each feature equaly. If not scale, the feature with a  higher value range starts dominating when calculating distances.\n",
    "\n",
    "After a scaling operation, the continuous features become similar in terms of range. Although this step isn't required for many algorithms, it's stil a good idea to do so.\n",
    "\n",
    "There're two common ways for scaling:\n",
    "  1. Normalization: all values are scaled in a specified range between 0 and 1 via normalization(or min-max normalization). This modification has no influence on the feature's distribution, however it does worsen the effects of outliers due to lower deviations. As a result, it is a advised that outliers be dealt with prior to normalization.\n",
    "  ##### Xnorm = (X - Xmean)/(Xmax - Xmin)"
   ]
  },
  {
   "cell_type": "code",
   "execution_count": 48,
   "id": "bcc54440",
   "metadata": {},
   "outputs": [
    {
     "data": {
      "text/plain": [
       "0   -0.092505\n",
       "1    0.108550\n",
       "2   -0.042242\n",
       "3    0.070852\n",
       "4    0.070852\n",
       "Name: Age, dtype: float64"
      ]
     },
     "execution_count": 48,
     "metadata": {},
     "output_type": "execute_result"
    }
   ],
   "source": [
    "# Normalization the Age column\n",
    "\n",
    "df['Age'] = (df['Age'] - df['Age'].mean()) / (df['Age'].max() - df['Age'].min())\n",
    "df['Age'].head()"
   ]
  },
  {
   "cell_type": "markdown",
   "id": "49c42681",
   "metadata": {},
   "source": [
    "2. Standartization: Standartization(also know as z-score normalisation) is the process of scaling values while accounting for stardard deviation. If the  standard deviation of features differs, the range of those features will likewise differ. The effect of outliers in the characteristics is reduced as result. To arrive at a distribution with a 0 mean and 1 variance, all the points are subtracted by their mean and the result devided by the distribution's variance.\n",
    "\n",
    "##### Z = (X - Xmean) / sigma;\n",
    " ###### where sigma = standard deviation"
   ]
  },
  {
   "cell_type": "code",
   "execution_count": 49,
   "id": "349a9d8d",
   "metadata": {},
   "outputs": [
    {
     "data": {
      "text/plain": [
       "0   -0.620478\n",
       "1    1.115195\n",
       "2   -0.602181\n",
       "3    0.622322\n",
       "4   -0.598793\n",
       "Name: Fare, dtype: float64"
      ]
     },
     "execution_count": 49,
     "metadata": {},
     "output_type": "execute_result"
    }
   ],
   "source": [
    "# Standartization the Fare column\n",
    "\n",
    "df['Fare'] = (df['Fare'] - df['Fare'].mean()) / df['Fare'].std()\n",
    "df['Fare'].head()"
   ]
  },
  {
   "cell_type": "markdown",
   "id": "cb5fde82",
   "metadata": {},
   "source": [
    "## 7. One-Hot Encoding\n",
    "\n",
    "Categorical data are variables that conntain label values rather than numeric  values. Examples, A \"pet\" variable can have values \"dog\" and \"cat\" or a \"color\" variable can have values \"red\", \"green\" and \"yellow\". Some algoritms can work with  categorical data directly but many machine larning algorithms connot operate on label data directly. They require all input and output variables to numeric. This means that categorical data must be converted to numerical form.\n",
    "\n",
    "##### How to convert Categorical data to numerical data?\n",
    "\n",
    "One-Hot Encoding changes your categorical data, which is challenging into understandind for algorithms, to a numerical format and enables you to group your categorical data without losing any information.\n",
    "\n",
    "If you have N distinct values/classes in the categorical column, it is enough to map them to N-1 binary columns. So one hot encoding creates new(binary) columns. indicating the presence of each possible value from the original data. The categorical variable is removed and a new bibary variable is added for each unique caterical value.\n",
    "\n",
    "Let's see the example of color column we used in example above, what happens when we apply one-hot encoding to this categorical column.\n",
    "\n",
    "The values in the original data are Red, blue, and yellow. We create a separate column for each possible value, Wherever the original value was Red, we put a 1 in the Red column.\n",
    "\n",
    "Pandas get dummies makes this every easy! Pandas get dummies(pd.get_dummies()) allows you to easily one-hot encode your categorical data."
   ]
  },
  {
   "cell_type": "code",
   "execution_count": 54,
   "id": "dd7c1adb",
   "metadata": {},
   "outputs": [
    {
     "ename": "KeyError",
     "evalue": "\"None of [Index(['Embarked', 'Sex'], dtype='object')] are in the [columns]\"",
     "output_type": "error",
     "traceback": [
      "\u001b[1;31m---------------------------------------------------------------------------\u001b[0m",
      "\u001b[1;31mKeyError\u001b[0m                                  Traceback (most recent call last)",
      "Cell \u001b[1;32mIn[54], line 2\u001b[0m\n\u001b[0;32m      1\u001b[0m \u001b[38;5;66;03m# Apply One-hot Encoding on Embarked and Sex column using padans get_dummies\u001b[39;00m\n\u001b[1;32m----> 2\u001b[0m df \u001b[38;5;241m=\u001b[39m pd\u001b[38;5;241m.\u001b[39mget_dummies(df, columns\u001b[38;5;241m=\u001b[39m[\u001b[38;5;124m'\u001b[39m\u001b[38;5;124mEmbarked\u001b[39m\u001b[38;5;124m'\u001b[39m,\u001b[38;5;124m'\u001b[39m\u001b[38;5;124mSex\u001b[39m\u001b[38;5;124m'\u001b[39m])\n\u001b[0;32m      3\u001b[0m df\u001b[38;5;241m.\u001b[39mhead()\n",
      "File \u001b[1;32mC:\\ProgramData\\anaconda3\\Lib\\site-packages\\pandas\\core\\reshape\\encoding.py:158\u001b[0m, in \u001b[0;36mget_dummies\u001b[1;34m(data, prefix, prefix_sep, dummy_na, columns, sparse, drop_first, dtype)\u001b[0m\n\u001b[0;32m    156\u001b[0m     \u001b[38;5;28;01mraise\u001b[39;00m \u001b[38;5;167;01mTypeError\u001b[39;00m(\u001b[38;5;124m\"\u001b[39m\u001b[38;5;124mInput must be a list-like for parameter `columns`\u001b[39m\u001b[38;5;124m\"\u001b[39m)\n\u001b[0;32m    157\u001b[0m \u001b[38;5;28;01melse\u001b[39;00m:\n\u001b[1;32m--> 158\u001b[0m     data_to_encode \u001b[38;5;241m=\u001b[39m data[columns]\n\u001b[0;32m    160\u001b[0m \u001b[38;5;66;03m# validate prefixes and separator to avoid silently dropping cols\u001b[39;00m\n\u001b[0;32m    161\u001b[0m \u001b[38;5;28;01mdef\u001b[39;00m \u001b[38;5;21mcheck_len\u001b[39m(item, name):\n",
      "File \u001b[1;32mC:\\ProgramData\\anaconda3\\Lib\\site-packages\\pandas\\core\\frame.py:3767\u001b[0m, in \u001b[0;36mDataFrame.__getitem__\u001b[1;34m(self, key)\u001b[0m\n\u001b[0;32m   3765\u001b[0m     \u001b[38;5;28;01mif\u001b[39;00m is_iterator(key):\n\u001b[0;32m   3766\u001b[0m         key \u001b[38;5;241m=\u001b[39m \u001b[38;5;28mlist\u001b[39m(key)\n\u001b[1;32m-> 3767\u001b[0m     indexer \u001b[38;5;241m=\u001b[39m \u001b[38;5;28mself\u001b[39m\u001b[38;5;241m.\u001b[39mcolumns\u001b[38;5;241m.\u001b[39m_get_indexer_strict(key, \u001b[38;5;124m\"\u001b[39m\u001b[38;5;124mcolumns\u001b[39m\u001b[38;5;124m\"\u001b[39m)[\u001b[38;5;241m1\u001b[39m]\n\u001b[0;32m   3769\u001b[0m \u001b[38;5;66;03m# take() does not accept boolean indexers\u001b[39;00m\n\u001b[0;32m   3770\u001b[0m \u001b[38;5;28;01mif\u001b[39;00m \u001b[38;5;28mgetattr\u001b[39m(indexer, \u001b[38;5;124m\"\u001b[39m\u001b[38;5;124mdtype\u001b[39m\u001b[38;5;124m\"\u001b[39m, \u001b[38;5;28;01mNone\u001b[39;00m) \u001b[38;5;241m==\u001b[39m \u001b[38;5;28mbool\u001b[39m:\n",
      "File \u001b[1;32mC:\\ProgramData\\anaconda3\\Lib\\site-packages\\pandas\\core\\indexes\\base.py:5877\u001b[0m, in \u001b[0;36mIndex._get_indexer_strict\u001b[1;34m(self, key, axis_name)\u001b[0m\n\u001b[0;32m   5874\u001b[0m \u001b[38;5;28;01melse\u001b[39;00m:\n\u001b[0;32m   5875\u001b[0m     keyarr, indexer, new_indexer \u001b[38;5;241m=\u001b[39m \u001b[38;5;28mself\u001b[39m\u001b[38;5;241m.\u001b[39m_reindex_non_unique(keyarr)\n\u001b[1;32m-> 5877\u001b[0m \u001b[38;5;28mself\u001b[39m\u001b[38;5;241m.\u001b[39m_raise_if_missing(keyarr, indexer, axis_name)\n\u001b[0;32m   5879\u001b[0m keyarr \u001b[38;5;241m=\u001b[39m \u001b[38;5;28mself\u001b[39m\u001b[38;5;241m.\u001b[39mtake(indexer)\n\u001b[0;32m   5880\u001b[0m \u001b[38;5;28;01mif\u001b[39;00m \u001b[38;5;28misinstance\u001b[39m(key, Index):\n\u001b[0;32m   5881\u001b[0m     \u001b[38;5;66;03m# GH 42790 - Preserve name from an Index\u001b[39;00m\n",
      "File \u001b[1;32mC:\\ProgramData\\anaconda3\\Lib\\site-packages\\pandas\\core\\indexes\\base.py:5938\u001b[0m, in \u001b[0;36mIndex._raise_if_missing\u001b[1;34m(self, key, indexer, axis_name)\u001b[0m\n\u001b[0;32m   5936\u001b[0m     \u001b[38;5;28;01mif\u001b[39;00m use_interval_msg:\n\u001b[0;32m   5937\u001b[0m         key \u001b[38;5;241m=\u001b[39m \u001b[38;5;28mlist\u001b[39m(key)\n\u001b[1;32m-> 5938\u001b[0m     \u001b[38;5;28;01mraise\u001b[39;00m \u001b[38;5;167;01mKeyError\u001b[39;00m(\u001b[38;5;124mf\u001b[39m\u001b[38;5;124m\"\u001b[39m\u001b[38;5;124mNone of [\u001b[39m\u001b[38;5;132;01m{\u001b[39;00mkey\u001b[38;5;132;01m}\u001b[39;00m\u001b[38;5;124m] are in the [\u001b[39m\u001b[38;5;132;01m{\u001b[39;00maxis_name\u001b[38;5;132;01m}\u001b[39;00m\u001b[38;5;124m]\u001b[39m\u001b[38;5;124m\"\u001b[39m)\n\u001b[0;32m   5940\u001b[0m not_found \u001b[38;5;241m=\u001b[39m \u001b[38;5;28mlist\u001b[39m(ensure_index(key)[missing_mask\u001b[38;5;241m.\u001b[39mnonzero()[\u001b[38;5;241m0\u001b[39m]]\u001b[38;5;241m.\u001b[39munique())\n\u001b[0;32m   5941\u001b[0m \u001b[38;5;28;01mraise\u001b[39;00m \u001b[38;5;167;01mKeyError\u001b[39;00m(\u001b[38;5;124mf\u001b[39m\u001b[38;5;124m\"\u001b[39m\u001b[38;5;132;01m{\u001b[39;00mnot_found\u001b[38;5;132;01m}\u001b[39;00m\u001b[38;5;124m not in index\u001b[39m\u001b[38;5;124m\"\u001b[39m)\n",
      "\u001b[1;31mKeyError\u001b[0m: \"None of [Index(['Embarked', 'Sex'], dtype='object')] are in the [columns]\""
     ]
    }
   ],
   "source": [
    "# Apply One-hot Encoding on Embarked and Sex column using padans get_dummies\n",
    "df = pd.get_dummies(df, columns=['Embarked','Sex'])\n",
    "df.head()"
   ]
  },
  {
   "cell_type": "code",
   "execution_count": 55,
   "id": "5fe49ca8",
   "metadata": {},
   "outputs": [
    {
     "data": {
      "text/html": [
       "<div>\n",
       "<style scoped>\n",
       "    .dataframe tbody tr th:only-of-type {\n",
       "        vertical-align: middle;\n",
       "    }\n",
       "\n",
       "    .dataframe tbody tr th {\n",
       "        vertical-align: top;\n",
       "    }\n",
       "\n",
       "    .dataframe thead th {\n",
       "        text-align: right;\n",
       "    }\n",
       "</style>\n",
       "<table border=\"1\" class=\"dataframe\">\n",
       "  <thead>\n",
       "    <tr style=\"text-align: right;\">\n",
       "      <th></th>\n",
       "      <th>PassengerId</th>\n",
       "      <th>Survived</th>\n",
       "      <th>Pclass</th>\n",
       "      <th>Name</th>\n",
       "      <th>Age</th>\n",
       "      <th>SibSp</th>\n",
       "      <th>Parch</th>\n",
       "      <th>Ticket</th>\n",
       "      <th>Fare</th>\n",
       "      <th>family_size</th>\n",
       "      <th>Age_group</th>\n",
       "      <th>age_group</th>\n",
       "      <th>Age_log</th>\n",
       "      <th>Age_sqrt</th>\n",
       "      <th>Age_rp</th>\n",
       "      <th>Embarked_C</th>\n",
       "      <th>Embarked_Q</th>\n",
       "      <th>Embarked_S</th>\n",
       "      <th>Sex_female</th>\n",
       "      <th>Sex_male</th>\n",
       "    </tr>\n",
       "  </thead>\n",
       "  <tbody>\n",
       "    <tr>\n",
       "      <th>0</th>\n",
       "      <td>1</td>\n",
       "      <td>0</td>\n",
       "      <td>3</td>\n",
       "      <td>Braund, Mr. Owen Harris</td>\n",
       "      <td>-0.092505</td>\n",
       "      <td>1</td>\n",
       "      <td>0</td>\n",
       "      <td>A/5 21171</td>\n",
       "      <td>-0.620478</td>\n",
       "      <td>1</td>\n",
       "      <td>Adult</td>\n",
       "      <td>adult</td>\n",
       "      <td>3.091042</td>\n",
       "      <td>11.855999</td>\n",
       "      <td>0.045455</td>\n",
       "      <td>0</td>\n",
       "      <td>0</td>\n",
       "      <td>1</td>\n",
       "      <td>0</td>\n",
       "      <td>1</td>\n",
       "    </tr>\n",
       "    <tr>\n",
       "      <th>1</th>\n",
       "      <td>2</td>\n",
       "      <td>1</td>\n",
       "      <td>1</td>\n",
       "      <td>Cumings, Mrs. John Bradley (Florence Briggs Th...</td>\n",
       "      <td>0.108550</td>\n",
       "      <td>1</td>\n",
       "      <td>0</td>\n",
       "      <td>PC 17599</td>\n",
       "      <td>1.115195</td>\n",
       "      <td>1</td>\n",
       "      <td>Adult</td>\n",
       "      <td>adult</td>\n",
       "      <td>3.637586</td>\n",
       "      <td>18.358064</td>\n",
       "      <td>0.026316</td>\n",
       "      <td>1</td>\n",
       "      <td>0</td>\n",
       "      <td>0</td>\n",
       "      <td>1</td>\n",
       "      <td>0</td>\n",
       "    </tr>\n",
       "    <tr>\n",
       "      <th>2</th>\n",
       "      <td>3</td>\n",
       "      <td>1</td>\n",
       "      <td>3</td>\n",
       "      <td>Heikkinen, Miss. Laina</td>\n",
       "      <td>-0.042242</td>\n",
       "      <td>0</td>\n",
       "      <td>0</td>\n",
       "      <td>STON/O2. 3101282</td>\n",
       "      <td>-0.602181</td>\n",
       "      <td>0</td>\n",
       "      <td>Adult</td>\n",
       "      <td>adult</td>\n",
       "      <td>3.258097</td>\n",
       "      <td>13.551229</td>\n",
       "      <td>0.038462</td>\n",
       "      <td>0</td>\n",
       "      <td>0</td>\n",
       "      <td>1</td>\n",
       "      <td>1</td>\n",
       "      <td>0</td>\n",
       "    </tr>\n",
       "    <tr>\n",
       "      <th>3</th>\n",
       "      <td>4</td>\n",
       "      <td>1</td>\n",
       "      <td>1</td>\n",
       "      <td>Futrelle, Mrs. Jacques Heath (Lily May Peel)</td>\n",
       "      <td>0.070852</td>\n",
       "      <td>1</td>\n",
       "      <td>0</td>\n",
       "      <td>113803</td>\n",
       "      <td>0.622322</td>\n",
       "      <td>1</td>\n",
       "      <td>Adult</td>\n",
       "      <td>adult</td>\n",
       "      <td>3.555348</td>\n",
       "      <td>17.189151</td>\n",
       "      <td>0.028571</td>\n",
       "      <td>0</td>\n",
       "      <td>0</td>\n",
       "      <td>1</td>\n",
       "      <td>1</td>\n",
       "      <td>0</td>\n",
       "    </tr>\n",
       "    <tr>\n",
       "      <th>4</th>\n",
       "      <td>5</td>\n",
       "      <td>0</td>\n",
       "      <td>3</td>\n",
       "      <td>Allen, Mr. William Henry</td>\n",
       "      <td>0.070852</td>\n",
       "      <td>0</td>\n",
       "      <td>0</td>\n",
       "      <td>373450</td>\n",
       "      <td>-0.598793</td>\n",
       "      <td>0</td>\n",
       "      <td>Adult</td>\n",
       "      <td>adult</td>\n",
       "      <td>3.555348</td>\n",
       "      <td>17.189151</td>\n",
       "      <td>0.028571</td>\n",
       "      <td>0</td>\n",
       "      <td>0</td>\n",
       "      <td>1</td>\n",
       "      <td>0</td>\n",
       "      <td>1</td>\n",
       "    </tr>\n",
       "  </tbody>\n",
       "</table>\n",
       "</div>"
      ],
      "text/plain": [
       "   PassengerId  Survived  Pclass  \\\n",
       "0            1         0       3   \n",
       "1            2         1       1   \n",
       "2            3         1       3   \n",
       "3            4         1       1   \n",
       "4            5         0       3   \n",
       "\n",
       "                                                Name       Age  SibSp  Parch  \\\n",
       "0                            Braund, Mr. Owen Harris -0.092505      1      0   \n",
       "1  Cumings, Mrs. John Bradley (Florence Briggs Th...  0.108550      1      0   \n",
       "2                             Heikkinen, Miss. Laina -0.042242      0      0   \n",
       "3       Futrelle, Mrs. Jacques Heath (Lily May Peel)  0.070852      1      0   \n",
       "4                           Allen, Mr. William Henry  0.070852      0      0   \n",
       "\n",
       "             Ticket      Fare  family_size Age_group age_group   Age_log  \\\n",
       "0         A/5 21171 -0.620478            1     Adult     adult  3.091042   \n",
       "1          PC 17599  1.115195            1     Adult     adult  3.637586   \n",
       "2  STON/O2. 3101282 -0.602181            0     Adult     adult  3.258097   \n",
       "3            113803  0.622322            1     Adult     adult  3.555348   \n",
       "4            373450 -0.598793            0     Adult     adult  3.555348   \n",
       "\n",
       "    Age_sqrt    Age_rp  Embarked_C  Embarked_Q  Embarked_S  Sex_female  \\\n",
       "0  11.855999  0.045455           0           0           1           0   \n",
       "1  18.358064  0.026316           1           0           0           1   \n",
       "2  13.551229  0.038462           0           0           1           1   \n",
       "3  17.189151  0.028571           0           0           1           1   \n",
       "4  17.189151  0.028571           0           0           1           0   \n",
       "\n",
       "   Sex_male  \n",
       "0         1  \n",
       "1         0  \n",
       "2         0  \n",
       "3         0  \n",
       "4         1  "
      ]
     },
     "execution_count": 55,
     "metadata": {},
     "output_type": "execute_result"
    }
   ],
   "source": [
    "df['Embarked_C'] = df['Embarked_C'].astype(int)\n",
    "df['Embarked_Q'] = df['Embarked_Q'].astype(int)\n",
    "df['Embarked_S'] = df['Embarked_S'].astype(int)\n",
    "df['Sex_female'] = df['Sex_female'].astype(int)\n",
    "df['Sex_male'] = df['Sex_male'].astype(int)\n",
    "df.head()"
   ]
  },
  {
   "cell_type": "code",
   "execution_count": null,
   "id": "af1ffdc5",
   "metadata": {},
   "outputs": [],
   "source": []
  }
 ],
 "metadata": {
  "kernelspec": {
   "display_name": "Python 3 (ipykernel)",
   "language": "python",
   "name": "python3"
  },
  "language_info": {
   "codemirror_mode": {
    "name": "ipython",
    "version": 3
   },
   "file_extension": ".py",
   "mimetype": "text/x-python",
   "name": "python",
   "nbconvert_exporter": "python",
   "pygments_lexer": "ipython3",
   "version": "3.11.5"
  }
 },
 "nbformat": 4,
 "nbformat_minor": 5
}
